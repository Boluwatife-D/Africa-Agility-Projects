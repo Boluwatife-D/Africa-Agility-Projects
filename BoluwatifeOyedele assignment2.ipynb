{
 "cells": [
  {
   "cell_type": "markdown",
   "metadata": {},
   "source": [
    "## Question 1"
   ]
  },
  {
   "cell_type": "markdown",
   "metadata": {},
   "source": [
    "You just got a job as a data science intern in a clothing-line company. You are currently undergoing training on how to make analysis of customers data. You trainer has instructed you to do the following task:\n",
    "\n",
    "- Generate random prices between 1000 - 10000 of 200 customers\n",
    "- Create three variables called expensive, fair, cheap using boolean indexing on the prices generated for customers. cheap(1000-2499), fair(2500-4999) and expensive(5000-10000)\n",
    "- Return the total number of cheap, fair and expensive"
   ]
  },
  {
   "cell_type": "code",
   "execution_count": 5,
   "metadata": {
    "scrolled": true
   },
   "outputs": [
    {
     "name": "stdout",
     "output_type": "stream",
     "text": [
      "[3917, 7535, 9965, 7973, 7740, 3916, 6615, 8617, 8435, 4396, 1445, 7742, 2879, 9573, 2162, 8708, 7325, 9869, 3960, 9751, 6557, 8300, 5187, 6374, 1926, 3316, 6918, 8270, 9607, 8925, 8008, 4316, 6192, 1616, 5273, 9783, 9931, 4197, 6728, 4142, 1875, 2408, 5615, 4512, 3578, 8227, 8733, 4688, 1249, 8090, 8717, 1718, 8743, 9071, 2400, 1242, 5108, 6403, 6994, 1923, 9382, 9497, 1977, 4165, 4105, 7758, 5812, 4850, 3484, 7821, 7771, 9565, 3967, 9320, 5373, 1301, 1077, 7304, 3680, 1724, 5736, 1911, 4468, 7901, 1396, 9424, 6949, 6758, 3974, 2916, 7733, 9082, 8570, 6763, 7247, 8215, 3756, 8599, 9894, 8114, 4266, 3812, 7009, 4216, 8124, 4323, 7373, 5691, 1632, 1778, 1343, 8823, 9075, 5630, 9507, 1885, 6729, 8393, 4527, 7244, 7387, 1824, 2416, 4512, 9931, 9778, 1419, 8855, 5077, 3320, 6200, 8798, 3224, 5317, 6054, 6050, 5479, 9096, 9660, 3413, 5330, 3580, 4696, 8862, 6835, 5616, 7705, 5438, 7314, 9027, 6869, 9892, 7713, 3185, 9098, 3714, 9011, 5457, 5429, 2739, 5342, 2193, 5602, 5564, 2605, 1559, 7664, 9263, 2452, 8054, 5628, 5142, 5485, 3456, 3873, 3471, 7488, 6356, 3414, 5011, 6962, 2470, 7287, 9191, 2926, 1009, 2630, 4996, 4632, 8437, 7328, 1206, 7416, 5061, 7428, 9297, 3071, 8974, 5275, 9463]\n"
     ]
    }
   ],
   "source": [
    "import numpy as np\n",
    "def Rand(start, end, price):\n",
    "    res = []\n",
    "    \n",
    "    for j in range(price):\n",
    "        res.append(np.random.randint(start, end))\n",
    "    return res\n",
    "\n",
    "price = 200\n",
    "start = 1000\n",
    "end = 10000\n",
    " \n",
    "print(Rand(start, end, price))"
   ]
  },
  {
   "cell_type": "markdown",
   "metadata": {},
   "source": [
    "You just got a job as a data science intern in a clothing-line company. You are currently undergoing training on how to make analysis of customers data. You trainer has instructed you to do the following task:\n",
    "\n",
    "-Generate random prices between 1000 - 10000 of 200 customers\n",
    "-Create three variables called expensive, fair, cheap using boolean indexing on the prices generated for customers. cheap(1000-2499), fair(2500-4999) and expensive(5000-10000)\n",
    "-Return the total number of cheap, fair and expensive"
   ]
  },
  {
   "cell_type": "code",
   "execution_count": 6,
   "metadata": {
    "scrolled": true
   },
   "outputs": [
    {
     "data": {
      "text/plain": [
       "array([1235, 6192, 1905, 8813, 3895, 6056, 1144, 5225, 8751, 4462, 6396,\n",
       "       6374, 3962, 3516, 9444, 4562, 5764, 9093, 7542, 1562, 9151, 4049,\n",
       "       1753, 2888, 2110, 7285, 7121, 2031, 5415, 3877, 4606, 3561, 9920,\n",
       "       7771, 1431, 5074, 1542, 2478, 2337, 8108, 9689, 2612, 4098, 2844,\n",
       "       3669, 1015, 3244, 8906, 2306, 2046, 4047, 2150, 4428, 1155, 5409,\n",
       "       1648, 8586, 2679, 8255, 8961, 5039, 1243, 2372, 2214, 8470, 6024,\n",
       "       6848, 6271, 5791, 3944, 6373, 1461, 2798, 5565, 2478, 5059, 1715,\n",
       "       7407, 7221, 3760, 6195, 8500, 2067, 8710, 4885, 7713, 8676, 1096,\n",
       "       1269, 7423, 1889, 1152, 4212, 9798, 8740, 1489, 1152, 4410, 5979,\n",
       "       3178, 8862, 6984, 3518, 4270, 9519, 8183, 1020, 7774, 2968, 7422,\n",
       "       7629, 4981, 3033, 1609, 6813, 2876, 4082, 8264, 1183, 7461, 4640,\n",
       "       8897, 9597, 4303, 8264, 1505, 9147, 6145, 6617, 6006, 3189, 8796,\n",
       "       4718, 2741, 1696, 2979, 6656, 9642, 8493, 3468, 1869, 3808, 7165,\n",
       "       3267, 3737, 6423, 2485, 6582, 6677, 5752, 6354, 5547, 5509, 1843,\n",
       "       6588, 6168, 8456, 9445, 1668, 2311, 2052, 8498, 1109, 6731, 6716,\n",
       "       1591, 8337, 1832, 8788, 6331, 7932, 3092, 2694, 9667, 8955, 6371,\n",
       "       9583, 2455, 1878, 4827, 5196, 7035, 3499, 6726, 8399, 2834, 7976,\n",
       "       4572, 7350, 9337, 2191, 2187, 5561, 6788, 6782, 7602, 6785, 4302,\n",
       "       3288, 1690])"
      ]
     },
     "execution_count": 6,
     "metadata": {},
     "output_type": "execute_result"
    }
   ],
   "source": [
    "#bullet 1 question\n",
    "np.random.seed(1)\n",
    "prices = np.random.randint(1000,10001,200)\n",
    "prices"
   ]
  },
  {
   "cell_type": "code",
   "execution_count": 7,
   "metadata": {},
   "outputs": [
    {
     "data": {
      "text/plain": [
       "200"
      ]
     },
     "execution_count": 7,
     "metadata": {},
     "output_type": "execute_result"
    }
   ],
   "source": [
    "len(prices)"
   ]
  },
  {
   "cell_type": "code",
   "execution_count": 15,
   "metadata": {},
   "outputs": [
    {
     "data": {
      "text/plain": [
       "array([1235, 1905, 1144, 1562, 1753, 2110, 2031, 1431, 1542, 2478, 2337,\n",
       "       1015, 2306, 2046, 2150, 1155, 1648, 1243, 2372, 2214, 1461, 2478,\n",
       "       1715, 2067, 1096, 1269, 1889, 1152, 1489, 1152, 1020, 1609, 1183,\n",
       "       1505, 1696, 1869, 2485, 1843, 1668, 2311, 2052, 1109, 1591, 1832,\n",
       "       2455, 1878, 2191, 2187, 1690])"
      ]
     },
     "execution_count": 15,
     "metadata": {},
     "output_type": "execute_result"
    }
   ],
   "source": [
    "#bullet 2 question\n",
    "#cheap = len(prices[(prices >= 1000) * (prices < 2500)])\n",
    "cheap = prices[(prices >= 1000) * (prices < 2500)]\n",
    "cheap"
   ]
  },
  {
   "cell_type": "code",
   "execution_count": 21,
   "metadata": {},
   "outputs": [
    {
     "data": {
      "text/plain": [
       "49"
      ]
     },
     "execution_count": 21,
     "metadata": {},
     "output_type": "execute_result"
    }
   ],
   "source": [
    "a = len(cheap)\n",
    "a"
   ]
  },
  {
   "cell_type": "code",
   "execution_count": 17,
   "metadata": {},
   "outputs": [
    {
     "data": {
      "text/plain": [
       "array([3895, 4462, 3962, 3516, 4562, 4049, 2888, 3877, 4606, 3561, 2612,\n",
       "       4098, 2844, 3669, 3244, 4047, 4428, 2679, 3944, 2798, 3760, 4885,\n",
       "       4212, 4410, 3178, 3518, 4270, 2968, 4981, 3033, 2876, 4082, 4640,\n",
       "       4303, 3189, 4718, 2741, 2979, 3468, 3808, 3267, 3737, 3092, 2694,\n",
       "       4827, 3499, 2834, 4572, 4302, 3288])"
      ]
     },
     "execution_count": 17,
     "metadata": {},
     "output_type": "execute_result"
    }
   ],
   "source": [
    "fair = prices[(prices >= 2500) * (prices < 5000)]\n",
    "fair"
   ]
  },
  {
   "cell_type": "code",
   "execution_count": 22,
   "metadata": {},
   "outputs": [
    {
     "data": {
      "text/plain": [
       "50"
      ]
     },
     "execution_count": 22,
     "metadata": {},
     "output_type": "execute_result"
    }
   ],
   "source": [
    "b = len(fair)\n",
    "b"
   ]
  },
  {
   "cell_type": "code",
   "execution_count": 19,
   "metadata": {},
   "outputs": [
    {
     "data": {
      "text/plain": [
       "array([6192, 8813, 6056, 5225, 8751, 6396, 6374, 9444, 5764, 9093, 7542,\n",
       "       9151, 7285, 7121, 5415, 9920, 7771, 5074, 8108, 9689, 8906, 5409,\n",
       "       8586, 8255, 8961, 5039, 8470, 6024, 6848, 6271, 5791, 6373, 5565,\n",
       "       5059, 7407, 7221, 6195, 8500, 8710, 7713, 8676, 7423, 9798, 8740,\n",
       "       5979, 8862, 6984, 9519, 8183, 7774, 7422, 7629, 6813, 8264, 7461,\n",
       "       8897, 9597, 8264, 9147, 6145, 6617, 6006, 8796, 6656, 9642, 8493,\n",
       "       7165, 6423, 6582, 6677, 5752, 6354, 5547, 5509, 6588, 6168, 8456,\n",
       "       9445, 8498, 6731, 6716, 8337, 8788, 6331, 7932, 9667, 8955, 6371,\n",
       "       9583, 5196, 7035, 6726, 8399, 7976, 7350, 9337, 5561, 6788, 6782,\n",
       "       7602, 6785])"
      ]
     },
     "execution_count": 19,
     "metadata": {},
     "output_type": "execute_result"
    }
   ],
   "source": [
    "expensive = prices[(prices >= 5000)]\n",
    "expensive"
   ]
  },
  {
   "cell_type": "code",
   "execution_count": 23,
   "metadata": {},
   "outputs": [
    {
     "data": {
      "text/plain": [
       "101"
      ]
     },
     "execution_count": 23,
     "metadata": {},
     "output_type": "execute_result"
    }
   ],
   "source": [
    "c = len(expensive)\n",
    "c"
   ]
  },
  {
   "cell_type": "code",
   "execution_count": 25,
   "metadata": {},
   "outputs": [
    {
     "data": {
      "text/plain": [
       "200"
      ]
     },
     "execution_count": 25,
     "metadata": {},
     "output_type": "execute_result"
    }
   ],
   "source": [
    "d = a + b + c\n",
    "d"
   ]
  },
  {
   "cell_type": "markdown",
   "metadata": {},
   "source": [
    "**Import numpy in the cell below :**"
   ]
  },
  {
   "cell_type": "code",
   "execution_count": 2,
   "metadata": {},
   "outputs": [],
   "source": [
    "import numpy as np"
   ]
  },
  {
   "cell_type": "markdown",
   "metadata": {},
   "source": [
    "**Create a matrix m in the next cell, to get the result below**"
   ]
  },
  {
   "cell_type": "code",
   "execution_count": 4,
   "metadata": {},
   "outputs": [
    {
     "data": {
      "text/plain": [
       "array([[ 1,  2,  3,  4],\n",
       "       [ 5,  6,  7,  8],\n",
       "       [ 9, 10, 11, 12],\n",
       "       [13, 14, 15, 16],\n",
       "       [17, 18, 19, 20],\n",
       "       [21, 22, 23, 24]])"
      ]
     },
     "execution_count": 4,
     "metadata": {},
     "output_type": "execute_result"
    }
   ],
   "source": [
    "m = np.arange(1,25).reshape(6,4)\n",
    "m"
   ]
  },
  {
   "cell_type": "markdown",
   "metadata": {},
   "source": [
    "**After creating the matrix m, get the results shown beneath each task:**"
   ]
  },
  {
   "cell_type": "markdown",
   "metadata": {},
   "source": [
    "**Task1 :**"
   ]
  },
  {
   "cell_type": "code",
   "execution_count": 5,
   "metadata": {},
   "outputs": [
    {
     "data": {
      "text/plain": [
       "array([[10, 11],\n",
       "       [14, 15]])"
      ]
     },
     "execution_count": 5,
     "metadata": {},
     "output_type": "execute_result"
    }
   ],
   "source": [
    "m[2:4, 1:3]"
   ]
  },
  {
   "cell_type": "markdown",
   "metadata": {},
   "source": [
    "**Task2 :**"
   ]
  },
  {
   "cell_type": "code",
   "execution_count": null,
   "metadata": {},
   "outputs": [],
   "source": [
    "m[1:5,1:]"
   ]
  },
  {
   "cell_type": "markdown",
   "metadata": {},
   "source": [
    "**Task3 :**"
   ]
  },
  {
   "cell_type": "code",
   "execution_count": 12,
   "metadata": {},
   "outputs": [
    {
     "data": {
      "text/plain": [
       "array([[10, 12],\n",
       "       [18, 20]])"
      ]
     },
     "execution_count": 12,
     "metadata": {},
     "output_type": "execute_result"
    }
   ],
   "source": [
    "m[2:5:2, 1::2]"
   ]
  },
  {
   "cell_type": "markdown",
   "metadata": {},
   "source": [
    "**Task4 :**"
   ]
  },
  {
   "cell_type": "code",
   "execution_count": 8,
   "metadata": {},
   "outputs": [
    {
     "data": {
      "text/plain": [
       "array([[ 1,  4],\n",
       "       [ 9, 12],\n",
       "       [17, 20]])"
      ]
     },
     "execution_count": 8,
     "metadata": {},
     "output_type": "execute_result"
    }
   ],
   "source": [
    "m[0:5:2, 0:4:3]"
   ]
  },
  {
   "cell_type": "code",
   "execution_count": null,
   "metadata": {},
   "outputs": [],
   "source": [
    "**Task3 :**"
   ]
  },
  {
   "cell_type": "code",
   "execution_count": 9,
   "metadata": {},
   "outputs": [
    {
     "data": {
      "text/plain": [
       "array([[ 2,  3],\n",
       "       [14, 15]])"
      ]
     },
     "execution_count": 9,
     "metadata": {},
     "output_type": "execute_result"
    }
   ],
   "source": [
    "m[0:4:3, 1:3]"
   ]
  },
  {
   "cell_type": "code",
   "execution_count": 10,
   "metadata": {},
   "outputs": [
    {
     "data": {
      "text/plain": [
       "array([[ 5,  6,  7,  8],\n",
       "       [13, 14, 15, 16],\n",
       "       [17, 18, 19, 20]])"
      ]
     },
     "execution_count": 10,
     "metadata": {},
     "output_type": "execute_result"
    }
   ],
   "source": [
    "m[[1,3,4],:]"
   ]
  },
  {
   "cell_type": "code",
   "execution_count": 11,
   "metadata": {},
   "outputs": [
    {
     "data": {
      "text/plain": [
       "array([[ 5,  8],\n",
       "       [13, 16],\n",
       "       [17, 20]])"
      ]
     },
     "execution_count": 11,
     "metadata": {},
     "output_type": "execute_result"
    }
   ],
   "source": [
    "m[[1,3,4], 0:4:3]"
   ]
  },
  {
   "cell_type": "code",
   "execution_count": 26,
   "metadata": {},
   "outputs": [
    {
     "data": {
      "text/plain": [
       "<function sum(iterable, /, start=0)>"
      ]
     },
     "execution_count": 26,
     "metadata": {},
     "output_type": "execute_result"
    }
   ],
   "source": [
    "sum"
   ]
  }
 ],
 "metadata": {
  "kernelspec": {
   "display_name": "Python 3 (ipykernel)",
   "language": "python",
   "name": "python3"
  },
  "language_info": {
   "codemirror_mode": {
    "name": "ipython",
    "version": 3
   },
   "file_extension": ".py",
   "mimetype": "text/x-python",
   "name": "python",
   "nbconvert_exporter": "python",
   "pygments_lexer": "ipython3",
   "version": "3.9.7"
  }
 },
 "nbformat": 4,
 "nbformat_minor": 4
}
